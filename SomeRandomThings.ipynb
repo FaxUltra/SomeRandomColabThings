{
  "nbformat": 4,
  "nbformat_minor": 0,
  "metadata": {
    "colab": {
      "provenance": [],
      "collapsed_sections": [
        "0ui2o2aNH4cP"
      ]
    },
    "kernelspec": {
      "name": "python3",
      "display_name": "Python 3"
    },
    "language_info": {
      "name": "python"
    }
  },
  "cells": [
    {
      "cell_type": "code",
      "execution_count": 10,
      "metadata": {
        "id": "66axGFsKfk1p",
        "colab": {
          "base_uri": "https://localhost:8080/"
        },
        "outputId": "02b977f6-41ff-4fc3-c05d-a6c610fc8180"
      },
      "outputs": [
        {
          "output_type": "stream",
          "name": "stdout",
          "text": [
            "Hola!\n"
          ]
        }
      ],
      "source": [
        "print(\"Hola!\")"
      ]
    },
    {
      "cell_type": "markdown",
      "source": [
        "# Diccionarios y variables"
      ],
      "metadata": {
        "id": "0ui2o2aNH4cP"
      }
    },
    {
      "cell_type": "markdown",
      "source": [
        "Aca, vamos a crear un diccionario y vamos a ir añadiendo y quitando datos"
      ],
      "metadata": {
        "id": "Z00dhKOngjyj"
      }
    },
    {
      "cell_type": "code",
      "source": [
        "database={\"else\",\"is\",\"if\"}\n",
        "print(database)\n",
        "database.add(\"lol\")\n",
        "print(database)\n",
        "database.remove(\"is\")\n",
        "if database == {\"else\",\"lol\",\"if\"}:\n",
        "  print(\"database is: \",database)"
      ],
      "metadata": {
        "colab": {
          "base_uri": "https://localhost:8080/"
        },
        "id": "MR9UJSX0fnkc",
        "outputId": "25b533c7-4798-4bad-8e0a-c13c06d22d47"
      },
      "execution_count": 11,
      "outputs": [
        {
          "output_type": "stream",
          "name": "stdout",
          "text": [
            "{'if', 'else', 'is'}\n",
            "{'if', 'else', 'lol', 'is'}\n",
            "database is:  {'if', 'else', 'lol'}\n"
          ]
        }
      ]
    },
    {
      "cell_type": "markdown",
      "source": [],
      "metadata": {
        "id": "OS40ka38giYT"
      }
    },
    {
      "cell_type": "markdown",
      "source": [
        "Aca, estamos creando una red neuronal que genera palabras aleatorias"
      ],
      "metadata": {
        "id": "xExMEjS6hUxG"
      }
    },
    {
      "cell_type": "code",
      "source": [
        "#Inicio de codigo\n",
        "import random\n",
        "\n",
        "# Definimos un vocabulario básico\n",
        "vocabulary = [\"the\", \"a\", \"an\", \"cat\", \"dog\", \"house\", \"run\", \"jump\", \"eat\", \"sleep\", \"happy\", \"sad\"]\n",
        "\n",
        "# Función para generar una palabra aleatoria\n",
        "def generate_random_word(vocab):\n",
        "  return random.choice(vocab)\n",
        "\n",
        "\n",
        "# Ejemplo de uso\n",
        "for _ in range(10):\n",
        "  random_word = generate_random_word(vocabulary)\n",
        "  print(random_word)\n",
        "#Fin de codigo"
      ],
      "metadata": {
        "colab": {
          "base_uri": "https://localhost:8080/"
        },
        "id": "upg9FFFahMLy",
        "outputId": "c409b0a7-a73b-4bad-d280-c84e7a1f988f"
      },
      "execution_count": 12,
      "outputs": [
        {
          "output_type": "stream",
          "name": "stdout",
          "text": [
            "the\n",
            "cat\n",
            "eat\n",
            "an\n",
            "an\n",
            "the\n",
            "the\n",
            "dog\n",
            "dog\n",
            "sleep\n"
          ]
        }
      ]
    },
    {
      "cell_type": "markdown",
      "source": [
        "Esto es un programa simple que obtiene un **\"secreto\"**, que es una variable oculta que creas desde *Google Colab*"
      ],
      "metadata": {
        "id": "Lq1xsLbnhjbv"
      }
    },
    {
      "cell_type": "code",
      "source": [
        "from google.colab import userdata\n",
        "userdata.get('KeyWord')\n",
        "print(userdata.get('KeyWord'))"
      ],
      "metadata": {
        "id": "9QNNXxD4g0sL",
        "colab": {
          "base_uri": "https://localhost:8080/"
        },
        "outputId": "50fed3d4-882a-452b-958a-15492219a5ed"
      },
      "execution_count": 13,
      "outputs": [
        {
          "output_type": "stream",
          "name": "stdout",
          "text": [
            "Facu\n"
          ]
        }
      ]
    },
    {
      "cell_type": "markdown",
      "source": [
        "# Numeros aleatorios"
      ],
      "metadata": {
        "id": "GAZuDLspHf27"
      }
    },
    {
      "cell_type": "markdown",
      "source": [
        "Aqui, creamos una variable que tira un numero aleatorio y la mostramos"
      ],
      "metadata": {
        "id": "WBuY6xsdAPJP"
      }
    },
    {
      "cell_type": "code",
      "source": [
        "import random\n",
        "aleatory = random.randint(1,100)\n",
        "print(aleatory)"
      ],
      "metadata": {
        "colab": {
          "base_uri": "https://localhost:8080/"
        },
        "id": "gwSdmm7v_93U",
        "outputId": "7573c28d-bf68-4493-e042-88c101d8dfc5"
      },
      "execution_count": 14,
      "outputs": [
        {
          "output_type": "stream",
          "name": "stdout",
          "text": [
            "88\n"
          ]
        }
      ]
    },
    {
      "cell_type": "markdown",
      "source": [
        "Aca creamos un esquema con la frequencia de diferentes numeros random. Me llama la atencion como todos caen cerca de 200"
      ],
      "metadata": {
        "id": "oXa-RtoYB-TP"
      }
    },
    {
      "cell_type": "code",
      "source": [
        "import numpy as np\n",
        "import IPython.display as display\n",
        "from matplotlib import pyplot as plt\n",
        "import io\n",
        "import base64\n",
        "\n",
        "x = 200 + np.random.randn(10000)\n",
        "fig, ax = plt.subplots(1, 1)\n",
        "ax.hist(x, 100)\n",
        "\n",
        "plt.title(\"Rnd DTA (Modified by 200)\")\n",
        "plt.xlabel(\"Value\")\n",
        "plt.ylabel(\"Frequency\")"
      ],
      "metadata": {
        "colab": {
          "base_uri": "https://localhost:8080/",
          "height": 489
        },
        "id": "f1E_CeVYBL_2",
        "outputId": "8782e537-2ec1-4803-bb9a-389f86a04811"
      },
      "execution_count": 15,
      "outputs": [
        {
          "output_type": "execute_result",
          "data": {
            "text/plain": [
              "Text(0, 0.5, 'Frequency')"
            ]
          },
          "metadata": {},
          "execution_count": 15
        },
        {
          "output_type": "display_data",
          "data": {
            "text/plain": [
              "<Figure size 640x480 with 1 Axes>"
            ],
            "image/png": "[encoded data removed]"
          },
          "metadata": {}
        }
      ]
    },
    {
      "cell_type": "markdown",
      "source": [
        "En este esquema, el valor no esta modificado por 200, pero el valor sigue estando cerca de 0"
      ],
      "metadata": {
        "id": "wYmoQVgLHIxQ"
      }
    },
    {
      "cell_type": "code",
      "source": [
        "import numpy as np\n",
        "import IPython.display as display\n",
        "from matplotlib import pyplot as plt\n",
        "import io\n",
        "import base64\n",
        "\n",
        "x = np.random.randn(9999999)\n",
        "fig, ax = plt.subplots(1, 1)\n",
        "ax.hist(x, 100)\n",
        "\n",
        "plt.title(\"Rnd DTA (Not modified by 200)\")\n",
        "plt.xlabel(\"Value\")\n",
        "plt.ylabel(\"Frequency\")"
      ],
      "metadata": {
        "colab": {
          "base_uri": "https://localhost:8080/",
          "height": 489
        },
        "id": "af2W9EajGdMM",
        "outputId": "77849a9c-530d-4a07-b434-db2e7154d6c4"
      },
      "execution_count": 1,
      "outputs": [
        {
          "output_type": "execute_result",
          "data": {
            "text/plain": [
              "Text(0, 0.5, 'Frequency')"
            ]
          },
          "metadata": {},
          "execution_count": 1
        },
        {
          "output_type": "display_data",
          "data": {
            "text/plain": [
              "<Figure size 640x480 with 1 Axes>"
            ],
            "image/png": "[encoded data removed]"
          },
          "metadata": {}
        }
      ]
    },
    {
      "cell_type": "markdown",
      "source": [
        "Una curiosidad es que mientras mas numeros generados, mas homogeneo es el esquema"
      ],
      "metadata": {
        "id": "GMu1Y2BhNEJH"
      }
    }
  ]
}